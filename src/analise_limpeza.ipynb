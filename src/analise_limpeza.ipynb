{
 "cells": [
  {
   "cell_type": "markdown",
   "id": "141a9aef",
   "metadata": {},
   "source": [
    "### Objetivo do Projeto\n",
    "O principal objetivo deste projeto foi automatizar a padronização de múltiplas bases de dados de clientes, que estavam em abas diferentes dentro de um único arquivo Excel. O processo de limpeza e unificação foi focado em dois aspectos principais:\n",
    "\n",
    "•\tPadronização de Clientes: Utilizando uma base de referência (Base_Referencia), o script identifica e padroniza os nomes de clientes, atribuindo um ID único, a Razão Social e o Grupo Econômico corretos.\n",
    "\n"
   ]
  },
  {
   "cell_type": "code",
   "execution_count": 1,
   "id": "b21fd3cb",
   "metadata": {},
   "outputs": [
    {
     "name": "stderr",
     "output_type": "stream",
     "text": [
      "c:\\Users\\Felipe\\Desktop\\CURSO DNC\\PROJETO BANCO DE DADOS BECORP\\.venv\\Lib\\site-packages\\fuzzywuzzy\\fuzz.py:11: UserWarning: Using slow pure-python SequenceMatcher. Install python-Levenshtein to remove this warning\n",
      "  warnings.warn('Using slow pure-python SequenceMatcher. Install python-Levenshtein to remove this warning')\n"
     ]
    }
   ],
   "source": [
    "#Bibliotecas\n",
    "import pandas as pd\n",
    "import os\n",
    "import re\n",
    "from fuzzywuzzy import fuzz"
   ]
  },
  {
   "cell_type": "code",
   "execution_count": 3,
   "id": "3cdba46d",
   "metadata": {},
   "outputs": [],
   "source": [
    "#Caminho para a pasta de dados brutos\n",
    "caminho_dados_brutos = 'Data/Data/Raw/'\n",
    "nome_arquivo = 'Base de Dados Clientes.xlsx'\n",
    "caminho_completo = os.path.join(caminho_dados_brutos, nome_arquivo)"
   ]
  },
  {
   "cell_type": "code",
   "execution_count": 4,
   "id": "52b4e30e",
   "metadata": {},
   "outputs": [],
   "source": [
    "#Função para padronizar os clientes\n",
    "# Esta função faz a busca por similaridade (fuzzy matching)\n",
    "def padronizar_clientes(df, df_referencia):\n",
    "    \"\"\"\n",
    "    Usa Fuzzy Matching para encontrar a correspondência mais próxima\n",
    "    dos nomes de clientes na base de referência e adiciona colunas padronizadas.\n",
    "    \"\"\"\n",
    "    \n",
    "    df['ID_Padronizado'] = None\n",
    "    df['Razao_Social_Padronizada'] = None\n",
    "    df['Grupo_Economico_Padronizado'] = None\n",
    "    \n",
    "    # Itera sobre cada linha do DataFrame principal (df)\n",
    "    for index, row in df.iterrows():\n",
    "        nome_cliente_tratado = row['Nome_Cliente_Tratado']\n",
    "        melhor_match = None\n",
    "        melhor_score = 0\n",
    "        \n",
    "        # Procura o melhor match na base de referência\n",
    "        for ref_nome in df_referencia['Razão Social']:\n",
    "            score = fuzz.ratio(nome_cliente_tratado, ref_nome)\n",
    "            if score > melhor_score:\n",
    "                melhor_score = score\n",
    "                melhor_match = ref_nome\n",
    "        \n",
    "        # Se a similaridade for alta (>= 85), padroniza\n",
    "        if melhor_score >= 85:\n",
    "            match_info = df_referencia[df_referencia['Razão Social'] == melhor_match].iloc[0]\n",
    "            df.at[index, 'ID_Padronizado'] = match_info['ID']\n",
    "            df.at[index, 'Razao_Social_Padronizada'] = match_info['Razão Social']\n",
    "            df.at[index, 'Grupo_Economico_Padronizado'] = match_info['Empresa / Grupo Economico']\n",
    "    \n",
    "    print(\"   -> Padronização de clientes concluída.\")"
   ]
  },
  {
   "cell_type": "code",
   "execution_count": null,
   "id": "3ef5deee",
   "metadata": {},
   "outputs": [
    {
     "name": "stdout",
     "output_type": "stream",
     "text": [
      "\n",
      "Processando a base: Departamento_Pessoal\n",
      "   -> Padronização de clientes concluída.\n",
      "\n",
      "Processando a base: Operacoes\n",
      "   -> Padronização de clientes concluída.\n",
      "\n",
      "Processando a base: Profissional_Ponta\n",
      "   -> Padronização de clientes concluída.\n",
      "\n",
      "Processando a base: Recrutamento_Selecao\n",
      "   -> Padronização de clientes concluída.\n",
      "\n",
      "--- Processo de Unificação Concluído ---\n",
      "Total de registros na base unificada: 2281\n",
      "Total de clientes únicos padronizados: 10\n",
      "Base de dados unificada salva em: ../Data/Processed/base_padronizada_final.xlsx\n"
     ]
    }
   ],
   "source": [
    "#Pocesso principal\n",
    "try:\n",
    "    # Carrega as bases de referência do arquivo Excel\n",
    "    excel_file = pd.ExcelFile(caminho_completo)\n",
    "    df_referencia = excel_file.parse('Base_Referencia')\n",
    "    df_fases = excel_file.parse('Fases', header=None)\n",
    "    \n",
    "    # Prepara a base de referência para a busca\n",
    "    df_referencia['Razão Social'] = df_referencia['Razão Social'].astype(str).str.upper().str.strip()\n",
    "    df_referencia['Empresa / Grupo Economico'] = df_referencia['Empresa / Grupo Economico'].astype(str).str.strip()\n",
    "\n",
    "    # Cria o dicionário para mapear serviços\n",
    "    mapeamento_servicos = {}\n",
    "    for _, row in df_fases.iterrows():\n",
    "        if pd.notna(row[1]): \n",
    "            categoria = str(row[0])\n",
    "            servico = str(row[1])\n",
    "            mapeamento_servicos[servico.upper().strip()] = categoria.strip()\n",
    "\n",
    "    # Lista para armazenar todos os DataFrames processados\n",
    "    todos_os_dfs = []\n",
    "\n",
    "    # Itera sobre cada aba no arquivo Excel\n",
    "    for nome_aba in excel_file.sheet_names:\n",
    "        if nome_aba not in ['Base_Referencia', 'Fases']:\n",
    "            print(f\"\\nProcessando a base: {nome_aba}\")\n",
    "\n",
    "            # Carrega a base de dados\n",
    "            df = excel_file.parse(nome_aba)\n",
    "            \n",
    "            # Adiciona a coluna de origem\n",
    "            df['Base_Origem'] = nome_aba\n",
    "\n",
    "            # Verifica e renomeia a coluna de clientes\n",
    "            if 'Nome do Cliente' in df.columns:\n",
    "                df = df.rename(columns={'Nome do Cliente': 'Nome_Cliente_Bruto'})\n",
    "            else:\n",
    "                print(f\"Aviso: Coluna 'Nome do Cliente' não encontrada na aba '{nome_aba}'. Pulando.\")\n",
    "                todos_os_dfs.append(df)\n",
    "                continue\n",
    "\n",
    "            # Inicia o tratamento de nomes de clientes\n",
    "            df['Nome_Cliente_Bruto'] = df['Nome_Cliente_Bruto'].astype(str).str.upper().str.strip()\n",
    "            df['Nome_Cliente_Tratado'] = df['Nome_Cliente_Bruto'].apply(\n",
    "                lambda x: re.sub(r'[^\\w\\s]', '', x)\n",
    "            )\n",
    "\n",
    "            # Padroniza os serviços\n",
    "            if 'Fase 2' in df.columns:\n",
    "                df['Servico_Tratado'] = df['Fase 2'].astype(str).str.upper().str.strip()\n",
    "                df['Categoria_Padronizada'] = df['Servico_Tratado'].map(mapeamento_servicos)\n",
    "            \n",
    "            # Chama a função de padronização de clientes\n",
    "            padronizar_clientes(df, df_referencia)\n",
    "\n",
    "            # Adiciona o DataFrame à lista\n",
    "            todos_os_dfs.append(df)\n",
    "\n",
    "    #FINALIZAÇÃO E SALVAMENTO\n",
    "    if todos_os_dfs:\n",
    "        # Concatena todos os DataFrames em um único\n",
    "        df_unificado = pd.concat(todos_os_dfs, ignore_index=True)\n",
    "        \n",
    "        print(\"\\n--- Processo de Unificação Concluído ---\")\n",
    "        print(f\"Total de registros na base unificada: {len(df_unificado)}\")\n",
    "        print(f\"Total de clientes únicos padronizados: {df_unificado['ID_Padronizado'].nunique()}\")\n",
    "        \n",
    "        # Salva o resultado final com um novo nome para evitar conflitos de permissão\n",
    "        caminho_salvar_excel = '../Data/Processed/base_padronizada_final.xlsx'\n",
    "        os.makedirs('../Data/Processed', exist_ok=True)\n",
    "        df_unificado.to_excel(caminho_salvar_excel, index=False)\n",
    "        \n",
    "        print(f\"Base de dados unificada salva em: {caminho_salvar_excel}\")\n",
    "    else:\n",
    "        print(\"\\nNenhum arquivo de dados de clientes foi encontrado ou processado.\")\n",
    "\n",
    "except FileNotFoundError:\n",
    "    print(f\"Erro: Verifique se o arquivo '{nome_arquivo}' está na pasta '{caminho_dados_brutos}'.\")\n",
    "except Exception as e:\n",
    "    print(f\"Ocorreu um erro inesperado: {e}\")"
   ]
  }
 ],
 "metadata": {
  "kernelspec": {
   "display_name": ".venv",
   "language": "python",
   "name": "python3"
  },
  "language_info": {
   "codemirror_mode": {
    "name": "ipython",
    "version": 3
   },
   "file_extension": ".py",
   "mimetype": "text/x-python",
   "name": "python",
   "nbconvert_exporter": "python",
   "pygments_lexer": "ipython3",
   "version": "3.11.9"
  }
 },
 "nbformat": 4,
 "nbformat_minor": 5
}
